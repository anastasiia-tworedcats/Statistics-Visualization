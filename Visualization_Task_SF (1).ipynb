{
 "cells": [
  {
   "cell_type": "code",
   "execution_count": 1,
   "id": "e9c21682",
   "metadata": {},
   "outputs": [],
   "source": [
    "import pandas as pd\n",
    "import matplotlib.pyplot as plt\n",
    "import seaborn as sns\n",
    "import plotly\n",
    "import plotly.express as px"
   ]
  },
  {
   "cell_type": "code",
   "execution_count": 2,
   "id": "5f9a1c89",
   "metadata": {
    "scrolled": true
   },
   "outputs": [
    {
     "data": {
      "text/html": [
       "<div>\n",
       "<style scoped>\n",
       "    .dataframe tbody tr th:only-of-type {\n",
       "        vertical-align: middle;\n",
       "    }\n",
       "\n",
       "    .dataframe tbody tr th {\n",
       "        vertical-align: top;\n",
       "    }\n",
       "\n",
       "    .dataframe thead th {\n",
       "        text-align: right;\n",
       "    }\n",
       "</style>\n",
       "<table border=\"1\" class=\"dataframe\">\n",
       "  <thead>\n",
       "    <tr style=\"text-align: right;\">\n",
       "      <th></th>\n",
       "      <th>RowNumber</th>\n",
       "      <th>CustomerId</th>\n",
       "      <th>Surname</th>\n",
       "      <th>CreditScore</th>\n",
       "      <th>Geography</th>\n",
       "      <th>Gender</th>\n",
       "      <th>Age</th>\n",
       "      <th>Tenure</th>\n",
       "      <th>Balance</th>\n",
       "      <th>NumOfProducts</th>\n",
       "      <th>HasCrCard</th>\n",
       "      <th>IsActiveMember</th>\n",
       "      <th>EstimatedSalary</th>\n",
       "      <th>Exited</th>\n",
       "    </tr>\n",
       "  </thead>\n",
       "  <tbody>\n",
       "    <tr>\n",
       "      <th>0</th>\n",
       "      <td>1</td>\n",
       "      <td>15634602</td>\n",
       "      <td>Hargrave</td>\n",
       "      <td>619</td>\n",
       "      <td>France</td>\n",
       "      <td>Female</td>\n",
       "      <td>42</td>\n",
       "      <td>2</td>\n",
       "      <td>0.00</td>\n",
       "      <td>1</td>\n",
       "      <td>1</td>\n",
       "      <td>1</td>\n",
       "      <td>101348.88</td>\n",
       "      <td>1</td>\n",
       "    </tr>\n",
       "    <tr>\n",
       "      <th>1</th>\n",
       "      <td>2</td>\n",
       "      <td>15647311</td>\n",
       "      <td>Hill</td>\n",
       "      <td>608</td>\n",
       "      <td>Spain</td>\n",
       "      <td>Female</td>\n",
       "      <td>41</td>\n",
       "      <td>1</td>\n",
       "      <td>83807.86</td>\n",
       "      <td>1</td>\n",
       "      <td>0</td>\n",
       "      <td>1</td>\n",
       "      <td>112542.58</td>\n",
       "      <td>0</td>\n",
       "    </tr>\n",
       "    <tr>\n",
       "      <th>2</th>\n",
       "      <td>3</td>\n",
       "      <td>15619304</td>\n",
       "      <td>Onio</td>\n",
       "      <td>502</td>\n",
       "      <td>France</td>\n",
       "      <td>Female</td>\n",
       "      <td>42</td>\n",
       "      <td>8</td>\n",
       "      <td>159660.80</td>\n",
       "      <td>3</td>\n",
       "      <td>1</td>\n",
       "      <td>0</td>\n",
       "      <td>113931.57</td>\n",
       "      <td>1</td>\n",
       "    </tr>\n",
       "    <tr>\n",
       "      <th>3</th>\n",
       "      <td>4</td>\n",
       "      <td>15701354</td>\n",
       "      <td>Boni</td>\n",
       "      <td>699</td>\n",
       "      <td>France</td>\n",
       "      <td>Female</td>\n",
       "      <td>39</td>\n",
       "      <td>1</td>\n",
       "      <td>0.00</td>\n",
       "      <td>2</td>\n",
       "      <td>0</td>\n",
       "      <td>0</td>\n",
       "      <td>93826.63</td>\n",
       "      <td>0</td>\n",
       "    </tr>\n",
       "    <tr>\n",
       "      <th>4</th>\n",
       "      <td>5</td>\n",
       "      <td>15737888</td>\n",
       "      <td>Mitchell</td>\n",
       "      <td>850</td>\n",
       "      <td>Spain</td>\n",
       "      <td>Female</td>\n",
       "      <td>43</td>\n",
       "      <td>2</td>\n",
       "      <td>125510.82</td>\n",
       "      <td>1</td>\n",
       "      <td>1</td>\n",
       "      <td>1</td>\n",
       "      <td>79084.10</td>\n",
       "      <td>0</td>\n",
       "    </tr>\n",
       "    <tr>\n",
       "      <th>...</th>\n",
       "      <td>...</td>\n",
       "      <td>...</td>\n",
       "      <td>...</td>\n",
       "      <td>...</td>\n",
       "      <td>...</td>\n",
       "      <td>...</td>\n",
       "      <td>...</td>\n",
       "      <td>...</td>\n",
       "      <td>...</td>\n",
       "      <td>...</td>\n",
       "      <td>...</td>\n",
       "      <td>...</td>\n",
       "      <td>...</td>\n",
       "      <td>...</td>\n",
       "    </tr>\n",
       "    <tr>\n",
       "      <th>9995</th>\n",
       "      <td>9996</td>\n",
       "      <td>15606229</td>\n",
       "      <td>Obijiaku</td>\n",
       "      <td>771</td>\n",
       "      <td>France</td>\n",
       "      <td>Male</td>\n",
       "      <td>39</td>\n",
       "      <td>5</td>\n",
       "      <td>0.00</td>\n",
       "      <td>2</td>\n",
       "      <td>1</td>\n",
       "      <td>0</td>\n",
       "      <td>96270.64</td>\n",
       "      <td>0</td>\n",
       "    </tr>\n",
       "    <tr>\n",
       "      <th>9996</th>\n",
       "      <td>9997</td>\n",
       "      <td>15569892</td>\n",
       "      <td>Johnstone</td>\n",
       "      <td>516</td>\n",
       "      <td>France</td>\n",
       "      <td>Male</td>\n",
       "      <td>35</td>\n",
       "      <td>10</td>\n",
       "      <td>57369.61</td>\n",
       "      <td>1</td>\n",
       "      <td>1</td>\n",
       "      <td>1</td>\n",
       "      <td>101699.77</td>\n",
       "      <td>0</td>\n",
       "    </tr>\n",
       "    <tr>\n",
       "      <th>9997</th>\n",
       "      <td>9998</td>\n",
       "      <td>15584532</td>\n",
       "      <td>Liu</td>\n",
       "      <td>709</td>\n",
       "      <td>France</td>\n",
       "      <td>Female</td>\n",
       "      <td>36</td>\n",
       "      <td>7</td>\n",
       "      <td>0.00</td>\n",
       "      <td>1</td>\n",
       "      <td>0</td>\n",
       "      <td>1</td>\n",
       "      <td>42085.58</td>\n",
       "      <td>1</td>\n",
       "    </tr>\n",
       "    <tr>\n",
       "      <th>9998</th>\n",
       "      <td>9999</td>\n",
       "      <td>15682355</td>\n",
       "      <td>Sabbatini</td>\n",
       "      <td>772</td>\n",
       "      <td>Germany</td>\n",
       "      <td>Male</td>\n",
       "      <td>42</td>\n",
       "      <td>3</td>\n",
       "      <td>75075.31</td>\n",
       "      <td>2</td>\n",
       "      <td>1</td>\n",
       "      <td>0</td>\n",
       "      <td>92888.52</td>\n",
       "      <td>1</td>\n",
       "    </tr>\n",
       "    <tr>\n",
       "      <th>9999</th>\n",
       "      <td>10000</td>\n",
       "      <td>15628319</td>\n",
       "      <td>Walker</td>\n",
       "      <td>792</td>\n",
       "      <td>France</td>\n",
       "      <td>Female</td>\n",
       "      <td>28</td>\n",
       "      <td>4</td>\n",
       "      <td>130142.79</td>\n",
       "      <td>1</td>\n",
       "      <td>1</td>\n",
       "      <td>0</td>\n",
       "      <td>38190.78</td>\n",
       "      <td>0</td>\n",
       "    </tr>\n",
       "  </tbody>\n",
       "</table>\n",
       "<p>10000 rows × 14 columns</p>\n",
       "</div>"
      ],
      "text/plain": [
       "      RowNumber  CustomerId    Surname  CreditScore Geography  Gender  Age  \\\n",
       "0             1    15634602   Hargrave          619    France  Female   42   \n",
       "1             2    15647311       Hill          608     Spain  Female   41   \n",
       "2             3    15619304       Onio          502    France  Female   42   \n",
       "3             4    15701354       Boni          699    France  Female   39   \n",
       "4             5    15737888   Mitchell          850     Spain  Female   43   \n",
       "...         ...         ...        ...          ...       ...     ...  ...   \n",
       "9995       9996    15606229   Obijiaku          771    France    Male   39   \n",
       "9996       9997    15569892  Johnstone          516    France    Male   35   \n",
       "9997       9998    15584532        Liu          709    France  Female   36   \n",
       "9998       9999    15682355  Sabbatini          772   Germany    Male   42   \n",
       "9999      10000    15628319     Walker          792    France  Female   28   \n",
       "\n",
       "      Tenure    Balance  NumOfProducts  HasCrCard  IsActiveMember  \\\n",
       "0          2       0.00              1          1               1   \n",
       "1          1   83807.86              1          0               1   \n",
       "2          8  159660.80              3          1               0   \n",
       "3          1       0.00              2          0               0   \n",
       "4          2  125510.82              1          1               1   \n",
       "...      ...        ...            ...        ...             ...   \n",
       "9995       5       0.00              2          1               0   \n",
       "9996      10   57369.61              1          1               1   \n",
       "9997       7       0.00              1          0               1   \n",
       "9998       3   75075.31              2          1               0   \n",
       "9999       4  130142.79              1          1               0   \n",
       "\n",
       "      EstimatedSalary  Exited  \n",
       "0           101348.88       1  \n",
       "1           112542.58       0  \n",
       "2           113931.57       1  \n",
       "3            93826.63       0  \n",
       "4            79084.10       0  \n",
       "...               ...     ...  \n",
       "9995         96270.64       0  \n",
       "9996        101699.77       0  \n",
       "9997         42085.58       1  \n",
       "9998         92888.52       1  \n",
       "9999         38190.78       0  \n",
       "\n",
       "[10000 rows x 14 columns]"
      ]
     },
     "metadata": {},
     "output_type": "display_data"
    }
   ],
   "source": [
    "churn = pd.read_csv('data/churn.csv', sep = ',')\n",
    "display(churn)"
   ]
  },
  {
   "cell_type": "code",
   "execution_count": 3,
   "id": "a0b39741",
   "metadata": {},
   "outputs": [
    {
     "data": {
      "text/html": [
       "<div>\n",
       "<style scoped>\n",
       "    .dataframe tbody tr th:only-of-type {\n",
       "        vertical-align: middle;\n",
       "    }\n",
       "\n",
       "    .dataframe tbody tr th {\n",
       "        vertical-align: top;\n",
       "    }\n",
       "\n",
       "    .dataframe thead th {\n",
       "        text-align: right;\n",
       "    }\n",
       "</style>\n",
       "<table border=\"1\" class=\"dataframe\">\n",
       "  <thead>\n",
       "    <tr style=\"text-align: right;\">\n",
       "      <th></th>\n",
       "      <th>RowNumber</th>\n",
       "      <th>CustomerId</th>\n",
       "      <th>Surname</th>\n",
       "      <th>CreditScore</th>\n",
       "      <th>Geography</th>\n",
       "      <th>Gender</th>\n",
       "      <th>Age</th>\n",
       "      <th>Tenure</th>\n",
       "      <th>Balance</th>\n",
       "      <th>NumOfProducts</th>\n",
       "      <th>HasCrCard</th>\n",
       "      <th>IsActiveMember</th>\n",
       "      <th>EstimatedSalary</th>\n",
       "      <th>Exited</th>\n",
       "    </tr>\n",
       "  </thead>\n",
       "  <tbody>\n",
       "    <tr>\n",
       "      <th>0</th>\n",
       "      <td>1</td>\n",
       "      <td>15634602</td>\n",
       "      <td>Hargrave</td>\n",
       "      <td>619</td>\n",
       "      <td>France</td>\n",
       "      <td>Female</td>\n",
       "      <td>42</td>\n",
       "      <td>2</td>\n",
       "      <td>0.00</td>\n",
       "      <td>1</td>\n",
       "      <td>1</td>\n",
       "      <td>Активный</td>\n",
       "      <td>101348.88</td>\n",
       "      <td>Ушедший</td>\n",
       "    </tr>\n",
       "    <tr>\n",
       "      <th>1</th>\n",
       "      <td>2</td>\n",
       "      <td>15647311</td>\n",
       "      <td>Hill</td>\n",
       "      <td>608</td>\n",
       "      <td>Spain</td>\n",
       "      <td>Female</td>\n",
       "      <td>41</td>\n",
       "      <td>1</td>\n",
       "      <td>83807.86</td>\n",
       "      <td>1</td>\n",
       "      <td>0</td>\n",
       "      <td>Активный</td>\n",
       "      <td>112542.58</td>\n",
       "      <td>Лояльный</td>\n",
       "    </tr>\n",
       "    <tr>\n",
       "      <th>2</th>\n",
       "      <td>3</td>\n",
       "      <td>15619304</td>\n",
       "      <td>Onio</td>\n",
       "      <td>502</td>\n",
       "      <td>France</td>\n",
       "      <td>Female</td>\n",
       "      <td>42</td>\n",
       "      <td>8</td>\n",
       "      <td>159660.80</td>\n",
       "      <td>3</td>\n",
       "      <td>1</td>\n",
       "      <td>Неактивный</td>\n",
       "      <td>113931.57</td>\n",
       "      <td>Ушедший</td>\n",
       "    </tr>\n",
       "    <tr>\n",
       "      <th>3</th>\n",
       "      <td>4</td>\n",
       "      <td>15701354</td>\n",
       "      <td>Boni</td>\n",
       "      <td>699</td>\n",
       "      <td>France</td>\n",
       "      <td>Female</td>\n",
       "      <td>39</td>\n",
       "      <td>1</td>\n",
       "      <td>0.00</td>\n",
       "      <td>2</td>\n",
       "      <td>0</td>\n",
       "      <td>Неактивный</td>\n",
       "      <td>93826.63</td>\n",
       "      <td>Лояльный</td>\n",
       "    </tr>\n",
       "    <tr>\n",
       "      <th>4</th>\n",
       "      <td>5</td>\n",
       "      <td>15737888</td>\n",
       "      <td>Mitchell</td>\n",
       "      <td>850</td>\n",
       "      <td>Spain</td>\n",
       "      <td>Female</td>\n",
       "      <td>43</td>\n",
       "      <td>2</td>\n",
       "      <td>125510.82</td>\n",
       "      <td>1</td>\n",
       "      <td>1</td>\n",
       "      <td>Активный</td>\n",
       "      <td>79084.10</td>\n",
       "      <td>Лояльный</td>\n",
       "    </tr>\n",
       "    <tr>\n",
       "      <th>...</th>\n",
       "      <td>...</td>\n",
       "      <td>...</td>\n",
       "      <td>...</td>\n",
       "      <td>...</td>\n",
       "      <td>...</td>\n",
       "      <td>...</td>\n",
       "      <td>...</td>\n",
       "      <td>...</td>\n",
       "      <td>...</td>\n",
       "      <td>...</td>\n",
       "      <td>...</td>\n",
       "      <td>...</td>\n",
       "      <td>...</td>\n",
       "      <td>...</td>\n",
       "    </tr>\n",
       "    <tr>\n",
       "      <th>9995</th>\n",
       "      <td>9996</td>\n",
       "      <td>15606229</td>\n",
       "      <td>Obijiaku</td>\n",
       "      <td>771</td>\n",
       "      <td>France</td>\n",
       "      <td>Male</td>\n",
       "      <td>39</td>\n",
       "      <td>5</td>\n",
       "      <td>0.00</td>\n",
       "      <td>2</td>\n",
       "      <td>1</td>\n",
       "      <td>Неактивный</td>\n",
       "      <td>96270.64</td>\n",
       "      <td>Лояльный</td>\n",
       "    </tr>\n",
       "    <tr>\n",
       "      <th>9996</th>\n",
       "      <td>9997</td>\n",
       "      <td>15569892</td>\n",
       "      <td>Johnstone</td>\n",
       "      <td>516</td>\n",
       "      <td>France</td>\n",
       "      <td>Male</td>\n",
       "      <td>35</td>\n",
       "      <td>10</td>\n",
       "      <td>57369.61</td>\n",
       "      <td>1</td>\n",
       "      <td>1</td>\n",
       "      <td>Активный</td>\n",
       "      <td>101699.77</td>\n",
       "      <td>Лояльный</td>\n",
       "    </tr>\n",
       "    <tr>\n",
       "      <th>9997</th>\n",
       "      <td>9998</td>\n",
       "      <td>15584532</td>\n",
       "      <td>Liu</td>\n",
       "      <td>709</td>\n",
       "      <td>France</td>\n",
       "      <td>Female</td>\n",
       "      <td>36</td>\n",
       "      <td>7</td>\n",
       "      <td>0.00</td>\n",
       "      <td>1</td>\n",
       "      <td>0</td>\n",
       "      <td>Активный</td>\n",
       "      <td>42085.58</td>\n",
       "      <td>Ушедший</td>\n",
       "    </tr>\n",
       "    <tr>\n",
       "      <th>9998</th>\n",
       "      <td>9999</td>\n",
       "      <td>15682355</td>\n",
       "      <td>Sabbatini</td>\n",
       "      <td>772</td>\n",
       "      <td>Germany</td>\n",
       "      <td>Male</td>\n",
       "      <td>42</td>\n",
       "      <td>3</td>\n",
       "      <td>75075.31</td>\n",
       "      <td>2</td>\n",
       "      <td>1</td>\n",
       "      <td>Неактивный</td>\n",
       "      <td>92888.52</td>\n",
       "      <td>Ушедший</td>\n",
       "    </tr>\n",
       "    <tr>\n",
       "      <th>9999</th>\n",
       "      <td>10000</td>\n",
       "      <td>15628319</td>\n",
       "      <td>Walker</td>\n",
       "      <td>792</td>\n",
       "      <td>France</td>\n",
       "      <td>Female</td>\n",
       "      <td>28</td>\n",
       "      <td>4</td>\n",
       "      <td>130142.79</td>\n",
       "      <td>1</td>\n",
       "      <td>1</td>\n",
       "      <td>Неактивный</td>\n",
       "      <td>38190.78</td>\n",
       "      <td>Лояльный</td>\n",
       "    </tr>\n",
       "  </tbody>\n",
       "</table>\n",
       "<p>10000 rows × 14 columns</p>\n",
       "</div>"
      ],
      "text/plain": [
       "      RowNumber  CustomerId    Surname  CreditScore Geography  Gender  Age  \\\n",
       "0             1    15634602   Hargrave          619    France  Female   42   \n",
       "1             2    15647311       Hill          608     Spain  Female   41   \n",
       "2             3    15619304       Onio          502    France  Female   42   \n",
       "3             4    15701354       Boni          699    France  Female   39   \n",
       "4             5    15737888   Mitchell          850     Spain  Female   43   \n",
       "...         ...         ...        ...          ...       ...     ...  ...   \n",
       "9995       9996    15606229   Obijiaku          771    France    Male   39   \n",
       "9996       9997    15569892  Johnstone          516    France    Male   35   \n",
       "9997       9998    15584532        Liu          709    France  Female   36   \n",
       "9998       9999    15682355  Sabbatini          772   Germany    Male   42   \n",
       "9999      10000    15628319     Walker          792    France  Female   28   \n",
       "\n",
       "      Tenure    Balance  NumOfProducts  HasCrCard IsActiveMember  \\\n",
       "0          2       0.00              1          1       Активный   \n",
       "1          1   83807.86              1          0       Активный   \n",
       "2          8  159660.80              3          1     Неактивный   \n",
       "3          1       0.00              2          0     Неактивный   \n",
       "4          2  125510.82              1          1       Активный   \n",
       "...      ...        ...            ...        ...            ...   \n",
       "9995       5       0.00              2          1     Неактивный   \n",
       "9996      10   57369.61              1          1       Активный   \n",
       "9997       7       0.00              1          0       Активный   \n",
       "9998       3   75075.31              2          1     Неактивный   \n",
       "9999       4  130142.79              1          1     Неактивный   \n",
       "\n",
       "      EstimatedSalary    Exited  \n",
       "0           101348.88   Ушедший  \n",
       "1           112542.58  Лояльный  \n",
       "2           113931.57   Ушедший  \n",
       "3            93826.63  Лояльный  \n",
       "4            79084.10  Лояльный  \n",
       "...               ...       ...  \n",
       "9995         96270.64  Лояльный  \n",
       "9996        101699.77  Лояльный  \n",
       "9997         42085.58   Ушедший  \n",
       "9998         92888.52   Ушедший  \n",
       "9999         38190.78  Лояльный  \n",
       "\n",
       "[10000 rows x 14 columns]"
      ]
     },
     "metadata": {},
     "output_type": "display_data"
    }
   ],
   "source": [
    "# заменяем в столбцах значения 0 и 1 (False и True) для упрощения восприятия и построения графиков\n",
    "churn['Exited'] = churn['Exited'].apply(lambda x:'Ушедший' if x == 1 else 'Лояльный')  \n",
    "churn['IsActiveMember'] = churn['IsActiveMember'].apply(lambda x: 'Активный' if x == 1 else 'Неактивный')   \n",
    "display(churn)"
   ]
  },
  {
   "cell_type": "markdown",
   "id": "77216dcb",
   "metadata": {},
   "source": [
    "## Столбцы таблицы:\n",
    "\n",
    "RowNumber — номер строки таблицы (это лишняя информация, поэтому можете сразу от неё избавиться)\n",
    "\n",
    "CustomerId — идентификатор клиента\n",
    "\n",
    "Surname — фамилия клиента\n",
    "\n",
    "CreditScore — кредитный рейтинг клиента (чем он выше, тем больше клиент брал кредитов и возвращал их)\n",
    "\n",
    "Geography — страна клиента (банк международный)\n",
    "\n",
    "Gender — пол клиента\n",
    "\n",
    "Age — возраст клиента\n",
    "\n",
    "Tenure — сколько лет клиент пользуется услугами банка\n",
    "\n",
    "Balance — баланс на счетах клиента в банке\n",
    "\n",
    "NumOfProducts — количество услуг банка, которые приобрёл клиент\n",
    "\n",
    "HasCrCard — есть ли у клиента кредитная карта (1 — да, 0 — нет)\n",
    "\n",
    "IsActiveMember — есть ли у клиента статус активного клиента банка (1 — да, 0 — нет)\n",
    "\n",
    "EstimatedSalary — предполагаемая заработная плата клиента\n",
    "\n",
    "Exited — статус лояльности (1 — ушедший клиент, 0 — лояльный клиент)"
   ]
  },
  {
   "cell_type": "markdown",
   "id": "50dd5084",
   "metadata": {},
   "source": [
    "## 9.1. Каково соотношение ушедших и лояльных клиентов? Покажите это на графике и дайте комментарий по соотношению."
   ]
  },
  {
   "cell_type": "code",
   "execution_count": 4,
   "id": "25b64cde",
   "metadata": {},
   "outputs": [
    {
     "data": {
      "text/plain": [
       "'Соотношение количества лояльных клиентов к ушедшим состваляет 3.9 к 1'"
      ]
     },
     "metadata": {},
     "output_type": "display_data"
    }
   ],
   "source": [
    "#Через количество клиентов, относящихся к каждой группе, найдем их соотношение\n",
    "ratio_exited = round(churn['Exited'].value_counts()[0]/churn['Exited'].value_counts()[1],1)\n",
    "display('Соотношение количества лояльных клиентов к ушедшим состваляет {} к 1'.format(ratio_exited))"
   ]
  },
  {
   "cell_type": "markdown",
   "id": "6428856d",
   "metadata": {},
   "source": [
    "Cоотношение лояльных клиентов к ушедшим составляет почти 4 к 1. На мой взгляд, важно узнать, за какой период банк покинуло большее количество клиентов. Если мы увидим, нарастающий отток в короткий период времени, необходимо проанализировать изменения политики банка в отношении клиентов, вписывающиеся в соответствующие временные рамки. Однако, можно представить ситуацию, когда данные представлены за длительную историю существования банка, и уходящие клиенты в совокупности являются не проблемой, а частью естественного притока и оттока потребителей. "
   ]
  },
  {
   "cell_type": "code",
   "execution_count": 5,
   "id": "504a5b8b",
   "metadata": {},
   "outputs": [
    {
     "data": {
      "image/png": "[encoded data removed]",
      "text/plain": [
       "<Figure size 360x360 with 1 Axes>"
      ]
     },
     "metadata": {},
     "output_type": "display_data"
    }
   ],
   "source": [
    "ratio = churn['Exited'].value_counts() # Формируем две группы (ушедшие и лояльные) по количеству клиентов. \n",
    "fig1 = plt.figure(figsize=(5, 5))      \n",
    "axes = fig1.add_axes([0, 0, 1, 1])\n",
    "axes.pie(                       # Выбираем круговую диаграмму, так как на ней удобно показывать группы, входящие в состав целого\n",
    "    ratio,\n",
    "    labels=['Лояльные клиенты', 'Ушедшие клиенты'], # обозначаем названия групп\n",
    "    autopct='%.1f%%',\n",
    "    explode = [0.1, 0],\n",
    ");\n",
    "axes.set_title('Соотношение количества ушедших и лояльных клиентов'); # название диаграммы"
   ]
  },
  {
   "cell_type": "markdown",
   "id": "4ad4a7cc",
   "metadata": {},
   "source": [
    "На диаграмме отчетливо видно, что около четверти потребителей перестала быть клиентами банка."
   ]
  },
  {
   "cell_type": "markdown",
   "id": "7c819d12",
   "metadata": {},
   "source": [
    "## 9.2. Постройте график, показывающий распределение баланса пользователей, у которых на счету больше 2 500 долларов. \n",
    "Опишите распределение и сделайте выводы."
   ]
  },
  {
   "cell_type": "code",
   "execution_count": 6,
   "id": "20f4745b",
   "metadata": {},
   "outputs": [
    {
     "data": {
      "text/plain": [
       "8427      3768.69\n",
       "5686     12459.19\n",
       "1791     14262.80\n",
       "5048     16893.59\n",
       "6029     23503.31\n",
       "          ...    \n",
       "6717    216109.88\n",
       "3588    221532.80\n",
       "8733    222267.63\n",
       "3280    238387.56\n",
       "2092    250898.09\n",
       "Name: Balance, Length: 6383, dtype: float64"
      ]
     },
     "metadata": {},
     "output_type": "display_data"
    }
   ],
   "source": [
    "balance_column = churn.Balance # выделим столбец Balance и клпируем его в Series\n",
    "balance = pd.Series(balance_column)\n",
    "balance1 = balance[balance > 2500].sort_values() # отсечем все показатели меньше 2500 и отсортируем список\n",
    "display(balance1) # из вывода видно, что наименьшее число 3768, и список идет на возрастание "
   ]
  },
  {
   "cell_type": "code",
   "execution_count": 7,
   "id": "a4e8680e",
   "metadata": {},
   "outputs": [
    {
     "data": {
      "image/png": "[encoded data removed]",
      "text/plain": [
       "<Figure size 720x504 with 1 Axes>"
      ]
     },
     "metadata": {
      "needs_background": "light"
     },
     "output_type": "display_data"
    }
   ],
   "source": [
    "fig = plt.figure(figsize=(10, 7)) # для визуализации распределения выберем гистограмму\n",
    "hist1 = sns.histplot(\n",
    "    x=balance1,\n",
    "    bins=100,\n",
    "    color = 'blue'# разделим имеющиеся данные на 100 групп, чтобы получить более точную картину\n",
    ");"
   ]
  },
  {
   "cell_type": "markdown",
   "id": "46fb02f4",
   "metadata": {},
   "source": [
    "На гистограмме видим нормальное распределение. Чаще всего на счетах клиентов находятся суммы от 10 до 15 тысяч доларов. Справа на гистограмме видно несколько счетов с наличием на них сумм, превышающих 23 тысячи доларов. Возможно, их стоит проверить на предмет выбросов. В целом, диапазон сумм варьируется от 3 до 25 тысяч."
   ]
  },
  {
   "cell_type": "markdown",
   "id": "90a8a0b0",
   "metadata": {},
   "source": [
    "## 9.3. Посмотрите на распределение баланса клиента в разрезе признака оттока. Как различаются суммы на накопительном счёте ушедших и лояльных клиентов? Подумайте и напишите, с чем это может быть связано, что может не устраивать ушедших клиентов в банке."
   ]
  },
  {
   "cell_type": "code",
   "execution_count": 8,
   "id": "be16d2f9",
   "metadata": {},
   "outputs": [],
   "source": [
    "#создаем маску, чтобы построить распределение баланса по лояльным клиентом\n",
    "balance_exited1 = churn[churn['Exited'] == 'Ушедший']['Balance'] \n",
    "#создаем маску, чтобы построить распределение баланса по ушедшим клиентом\n",
    "balance_exited2 = churn[churn['Exited'] == 'Лояльный']['Balance']"
   ]
  },
  {
   "cell_type": "code",
   "execution_count": 9,
   "id": "48dde5c6",
   "metadata": {},
   "outputs": [
    {
     "data": {
      "image/png": "[encoded data removed]",
      "text/plain": [
       "<Figure size 1080x360 with 2 Axes>"
      ]
     },
     "metadata": {
      "needs_background": "light"
     },
     "output_type": "display_data"
    }
   ],
   "source": [
    "fig, axes = plt.subplots(nrows=1, ncols=2, figsize=(15, 5)) # для визуализации распределения выберем гистограмму\n",
    "axes[0].hist(\n",
    "    x= balance_exited1, label=[\"Баланс на счетах ушедших клиентов\"], color=\"orange\", bins=100\n",
    ")\n",
    "axes[0].set_title(\"Суммы на счетах ушедших клиентов\"); \n",
    "\n",
    "axes[1].hist(\n",
    "    x=balance_exited2, label=[\"Баланс на счетах лояльных клиентов\"], color=\"purple\", bins=100\n",
    ")\n",
    "axes[1].set_title(\"Суммы на счетах лояльных клиентов\");\n"
   ]
  },
  {
   "cell_type": "markdown",
   "id": "9cd85a5a",
   "metadata": {},
   "source": [
    "На обеих гистограммах видны выбросы в областях, близких к нулю, скорее всего это большое количество клиентов, которые не пользуются счетом (нулевой баланс) или просто держащие на счету небольшую сумму денег. Можно предположить, что банк интересуют более состоятельные клиенты, поэтому, рассматривая выборку, значениями, составляющие выброс, можно пренебречь. Также видно, что выборка лояльных клиентов распределена по графику более однородно и не имеет выраженного пика. На гистограмме ушедших клиентов отчетливо видно увеличение количества клиентов с суммой 10-15 тысяч доларов на счету, также среди ушедших клиентов явно больше тех, кто имеет на счету более 15 тысяч долларов. Как и на гистограмме из предыдущего задания, видны несколько случаев с суммой, приближающейся к 25000, в будущем стоит определить, относить эти случаи к выбросам или нет. "
   ]
  },
  {
   "cell_type": "markdown",
   "id": "2bf4d86e",
   "metadata": {},
   "source": [
    "## 9.4. Посмотрите на распределение возраста в разрезе признака оттока. В какой группе больше потенциальных выбросов? На какую возрастную категорию клиентов стоит обратить внимание банку?"
   ]
  },
  {
   "cell_type": "code",
   "execution_count": 10,
   "id": "5fca232d",
   "metadata": {},
   "outputs": [],
   "source": [
    "age1 = churn[churn.Exited == 'Ушедший']['Age'] # создаем маску, чтобы построить распределение лояльных клиентов по возрасту\n",
    "age0 = churn[churn.Exited == 'Лояльный']['Age'] # создаем маску, чтобы построить распределение ушедших клиентов по возрасту"
   ]
  },
  {
   "cell_type": "code",
   "execution_count": 11,
   "id": "6902cd40",
   "metadata": {},
   "outputs": [
    {
     "data": {
      "image/png": "[encoded data removed]",
      "text/plain": [
       "<Figure size 1080x360 with 2 Axes>"
      ]
     },
     "metadata": {
      "needs_background": "light"
     },
     "output_type": "display_data"
    }
   ],
   "source": [
    "fig, axes = plt.subplots(nrows=1, ncols=2, figsize=(15, 5)) # для визуализации распределения выберем гистограмму\n",
    "axes[0].hist(\n",
    "    x= age1, label=[\"Распределение ушедших клиентов по возрасту\"], color=\"orange\", bins=30\n",
    ");\n",
    "axes[0].set_title(\"Возраст ушедших клиентов\");\n",
    "\n",
    "axes[1].hist(\n",
    "    x=age0, label=[\"Распределение лояльных клиентов по возрасту\"], color=\"purple\", bins=30\n",
    ");\n",
    "axes[1].set_title(\"Возраст лояльных клиентов\");\n"
   ]
  },
  {
   "cell_type": "markdown",
   "id": "8869c699",
   "metadata": {},
   "source": [
    "Из распределения по возрасту лояльных клиентов видно отчетливое смещение графика влево, что означает удовлетвореннось качеством оказания услуг преимущественно среди молодых людей от 25 до 45 лет. В то же время, распределение ушедших клиентов по возрасту близко к нормальному и выраженных сдвигов не имеет. Пиковые значения возраста ушедших клиентов приходятся на 40-55 лет. Учитывая отток более зрелых клиентов, можно предположить, что их могут не устраивать продукты банка, нацеленные эту возрастную катугорию, и/или избыточная цифровизация банка, неудобство дистанционного взаимодействия со счетом. Стоит учитывать приверженность к консерватизму людей старшего возраста, что может объяснять нежелание осваивать новые цифровые продукты."
   ]
  },
  {
   "cell_type": "markdown",
   "id": "9865fb03",
   "metadata": {},
   "source": [
    "## 9.5. Постройте график, который показывает взаимосвязь кредитного рейтинга клиента и его предполагаемой зарплаты. Добавьте расцветку по признаку оттока клиентов. Какова взаимосвязь между признаками? Если не видите явной взаимосвязи, укажите это."
   ]
  },
  {
   "cell_type": "code",
   "execution_count": 12,
   "id": "03c44d84",
   "metadata": {},
   "outputs": [],
   "source": [
    "salary_qcut = pd.qcut(round(churn['EstimatedSalary']), q=20) # разделим диапазон предполагаемых зарплат на 20 групп\n",
    "credit_salary = churn.pivot_table(values = 'CreditScore', index = 'Exited' , columns = salary_qcut) # построим сводную таблицу\n",
    "                                                        # показывающую распределение значений кредитного рейтинга по уровню \n",
    "                                                        # предполагаемых зарплат и по признаку лояльности"
   ]
  },
  {
   "cell_type": "code",
   "execution_count": 13,
   "id": "a5301113",
   "metadata": {},
   "outputs": [
    {
     "data": {
      "image/png": "[encoded data removed]",
      "text/plain": [
       "<Figure size 1080x504 with 2 Axes>"
      ]
     },
     "metadata": {
      "needs_background": "light"
     },
     "output_type": "display_data"
    }
   ],
   "source": [
    "fig = plt.figure(figsize=(15, 7))  # выберем тепловую карту в качестве иллюстрации распределения кредитного рейтинга\n",
    "heatmap = sns.heatmap(data=credit_salary, cmap='YlGnBu')\n",
    "heatmap.set_title('Зависимость кредитного рейтинга от величины предполагаемой заработной платы', fontsize=16);"
   ]
  },
  {
   "cell_type": "markdown",
   "id": "ae6c75d6",
   "metadata": {},
   "source": [
    "По тепловой карте ушедших клиентов видно, что в среднем кредитный рейтинг среди них не является низким и распределен более равномерно, чем среди лояльных потребителей. Можно предположить, что причиной ухода из банка не является неоплаченный в этом банке кредит. Во второй группе высокий кредитный рейтинг в большей степени зависит от предполагаемой заработной платы и сосредоточен в промежутках 10-40 тысяч доларов и 180-190 тысяч доларов. Можно предположить, что клиенты с более низким, но достаточным для нормальной жизни доходом, более ответственно относятся к выплате кредитов. "
   ]
  },
  {
   "cell_type": "markdown",
   "id": "d638d64b",
   "metadata": {},
   "source": [
    "## 9.6. Кто чаще уходит, мужчины или женщины? Постройте график, который иллюстрирует это."
   ]
  },
  {
   "cell_type": "code",
   "execution_count": 14,
   "id": "73f79ce5",
   "metadata": {},
   "outputs": [],
   "source": [
    "gender_sort = churn.groupby('Gender')['Exited'].value_counts() # сгруппируем клиентов по полу и лояльности банку"
   ]
  },
  {
   "cell_type": "code",
   "execution_count": 15,
   "id": "66ae05d8",
   "metadata": {},
   "outputs": [
    {
     "data": {
      "image/png": "[encoded data removed]",
      "text/plain": [
       "<Figure size 864x288 with 1 Axes>"
      ]
     },
     "metadata": {
      "needs_background": "light"
     },
     "output_type": "display_data"
    }
   ],
   "source": [
    "gender_sort.plot(   # используем для визуализации значений нескольких признаков столбчатую диаграмму\n",
    "    kind='barh', \n",
    "    grid=True, \n",
    "    figsize=(12, 4), \n",
    "    color = ['purple', 'orange'],\n",
    "    title = 'Гендерный состав лояльной и нелояльной групп клиентов'\n",
    ");"
   ]
  },
  {
   "cell_type": "markdown",
   "id": "e092c8a5",
   "metadata": {},
   "source": [
    "По диаграмме видно, что и мужчины, и женщины часто прекращают пользоваться услугами банка, однако женщин в этой группе незначительно больше. В группе лояльных клиентов можно увидеть противоположную картину, там доля мужчин выше доли женщин почти на 1000."
   ]
  },
  {
   "cell_type": "markdown",
   "id": "cd46cfdf",
   "metadata": {},
   "source": [
    "## 9.7. Как отток клиентов зависит от числа приобретённых у банка услуг? Для ответа на этот вопрос постройте многоуровневую столбчатую диаграмму."
   ]
  },
  {
   "cell_type": "code",
   "execution_count": 16,
   "id": "710977f4",
   "metadata": {},
   "outputs": [],
   "source": [
    "products = churn.groupby('Exited')['NumOfProducts'].value_counts() # сгруппируем клиентов банка по признаку лояльности и \n",
    "                                                                   # количетсву приобретенных продуктов"
   ]
  },
  {
   "cell_type": "code",
   "execution_count": 17,
   "id": "e06e2639",
   "metadata": {},
   "outputs": [
    {
     "data": {
      "image/png": "[encoded data removed]",
      "text/plain": [
       "<Figure size 864x288 with 1 Axes>"
      ]
     },
     "metadata": {
      "needs_background": "light"
     },
     "output_type": "display_data"
    }
   ],
   "source": [
    "products.plot( \n",
    "    kind='barh', \n",
    "    grid=True, \n",
    "    figsize=(12, 4), \n",
    "    color = ['blue', 'green'],\n",
    "    title = 'Зависимость оттока клиентов от количества приобретенных услуг '\n",
    ");"
   ]
  },
  {
   "cell_type": "markdown",
   "id": "52571d94",
   "metadata": {},
   "source": [
    "Из данной диаграммы видно, что после приобретения 1 или 2 услуг большая часть потребителей остается лояльной. В то же время большинство ушедших клиентов пользовалось только одной услугой, это позволяет предположить, что с одной стороны банк может направить усилия на изменение политики в отношении новых клиентов, с дргуой стороны, часть лояльных клиентов, купивших только 1 услугу, находится в зоне риска и может покинуть банк."
   ]
  },
  {
   "cell_type": "markdown",
   "id": "ee119e6f",
   "metadata": {},
   "source": [
    "## 9.8. Как влияет наличие статуса активного клиента на отток клиентов? Постройте диаграмму, иллюстрирующую это. Что бы вы предложили банку, чтобы уменьшить отток клиентов среди неактивных?"
   ]
  },
  {
   "cell_type": "code",
   "execution_count": 18,
   "id": "fc8078b6",
   "metadata": {},
   "outputs": [],
   "source": [
    "activity = churn[['Exited', 'IsActiveMember']].value_counts() # сортируем данные из столбцов Exited и IsActiveMember"
   ]
  },
  {
   "cell_type": "code",
   "execution_count": 19,
   "id": "a521140a",
   "metadata": {},
   "outputs": [
    {
     "data": {
      "image/png": "[encoded data removed]",
      "text/plain": [
       "<Figure size 864x288 with 1 Axes>"
      ]
     },
     "metadata": {
      "needs_background": "light"
     },
     "output_type": "display_data"
    }
   ],
   "source": [
    "activity.plot( \n",
    "    kind='bar',             # используем для визуализации нескольких признаков многоуровневую столбчатую диаграмму\n",
    "    grid=True, \n",
    "    figsize=(12, 4), \n",
    "    color = ['purple', 'pink'],\n",
    "    title = 'Зависимость оттока клиентов от их активности '\n",
    ");"
   ]
  },
  {
   "cell_type": "markdown",
   "id": "ac86a064",
   "metadata": {},
   "source": [
    "На диаграмме можно увидеть, что больше половины ушедших клиентов были неактивными, а среди лояльных клиентов банка большую часть составляют активные потребители. Результаты этой диаграммы коррелируют с предыдущей, если клиент приобрел больше услуг и чаще пользуется продуктами банку, уровень его лояльности повышается"
   ]
  },
  {
   "cell_type": "markdown",
   "id": "af94f2c2",
   "metadata": {},
   "source": [
    "## 9.9. В какой стране доля ушедших клиентов больше? Постройте тепловую картограмму, которая покажет это соотношение на карте мира. Предположите, с чем это может быть связано."
   ]
  },
  {
   "cell_type": "code",
   "execution_count": 20,
   "id": "c448c1a0",
   "metadata": {},
   "outputs": [
    {
     "data": {
      "text/plain": [
       "Exited  Geography\n",
       "False   France       4204\n",
       "        Spain        2064\n",
       "        Germany      1695\n",
       "True    Germany       814\n",
       "        France        810\n",
       "        Spain         413\n",
       "Name: Geography, dtype: int64"
      ]
     },
     "metadata": {},
     "output_type": "display_data"
    },
    {
     "data": {
      "text/html": [
       "<div>\n",
       "<style scoped>\n",
       "    .dataframe tbody tr th:only-of-type {\n",
       "        vertical-align: middle;\n",
       "    }\n",
       "\n",
       "    .dataframe tbody tr th {\n",
       "        vertical-align: top;\n",
       "    }\n",
       "\n",
       "    .dataframe thead th {\n",
       "        text-align: right;\n",
       "    }\n",
       "</style>\n",
       "<table border=\"1\" class=\"dataframe\">\n",
       "  <thead>\n",
       "    <tr style=\"text-align: right;\">\n",
       "      <th></th>\n",
       "      <th>country</th>\n",
       "      <th>count</th>\n",
       "    </tr>\n",
       "  </thead>\n",
       "  <tbody>\n",
       "    <tr>\n",
       "      <th>0</th>\n",
       "      <td>Germany</td>\n",
       "      <td>814</td>\n",
       "    </tr>\n",
       "    <tr>\n",
       "      <th>1</th>\n",
       "      <td>France</td>\n",
       "      <td>810</td>\n",
       "    </tr>\n",
       "    <tr>\n",
       "      <th>2</th>\n",
       "      <td>Spain</td>\n",
       "      <td>413</td>\n",
       "    </tr>\n",
       "  </tbody>\n",
       "</table>\n",
       "</div>"
      ],
      "text/plain": [
       "   country  count\n",
       "0  Germany    814\n",
       "1   France    810\n",
       "2    Spain    413"
      ]
     },
     "execution_count": 20,
     "metadata": {},
     "output_type": "execute_result"
    }
   ],
   "source": [
    "geo = pd.DataFrame()\n",
    "display(churn.groupby(churn['Exited']=='Ушедший')['Geography'].value_counts())\n",
    "geo['country'] = ['Germany', 'France', 'Spain'] \n",
    "geo['count'] = [814, 810, 413]    # создадим DataFrame geo, включающий в себя столбец из уникальных значений churn.Geography \n",
    "                                     # и столбец с количеством ушедших клиентов для каждой из стран\n",
    "geo"
   ]
  },
  {
   "cell_type": "code",
   "execution_count": 22,
   "id": "1a2199e9",
   "metadata": {},
   "outputs": [
    {
     "data": {
      "application/vnd.plotly.v1+json": {
       "config": {
        "plotlyServerURL": "https://plot.ly"
       },
       "data": [
        {
         "coloraxis": "coloraxis",
         "geo": "geo",
         "hovertemplate": "country=%{location}<br>count=%{z}<extra></extra>",
         "locationmode": "country names",
         "locations": [
          "Germany",
          "France",
          "Spain"
         ],
         "name": "",
         "type": "choropleth",
         "z": [
          814,
          810,
          413
         ]
        }
       ],
       "layout": {
        "coloraxis": {
         "cmax": 820,
         "cmin": 0,
         "colorbar": {
          "title": {
           "text": "count"
          }
         },
         "colorscale": [
          [
           0,
           "rgb(247,252,245)"
          ],
          [
           0.125,
           "rgb(229,245,224)"
          ],
          [
           0.25,
           "rgb(199,233,192)"
          ],
          [
           0.375,
           "rgb(161,217,155)"
          ],
          [
           0.5,
           "rgb(116,196,118)"
          ],
          [
           0.625,
           "rgb(65,171,93)"
          ],
          [
           0.75,
           "rgb(35,139,69)"
          ],
          [
           0.875,
           "rgb(0,109,44)"
          ],
          [
           1,
           "rgb(0,68,27)"
          ]
         ]
        },
        "geo": {
         "center": {},
         "domain": {
          "x": [
           0,
           1
          ],
          "y": [
           0,
           1
          ]
         }
        },
        "height": 700,
        "legend": {
         "tracegroupgap": 0
        },
        "template": {
         "data": {
          "bar": [
           {
            "error_x": {
             "color": "#2a3f5f"
            },
            "error_y": {
             "color": "#2a3f5f"
            },
            "marker": {
             "line": {
              "color": "#E5ECF6",
              "width": 0.5
             },
             "pattern": {
              "fillmode": "overlay",
              "size": 10,
              "solidity": 0.2
             }
            },
            "type": "bar"
           }
          ],
          "barpolar": [
           {
            "marker": {
             "line": {
              "color": "#E5ECF6",
              "width": 0.5
             },
             "pattern": {
              "fillmode": "overlay",
              "size": 10,
              "solidity": 0.2
             }
            },
            "type": "barpolar"
           }
          ],
          "carpet": [
           {
            "aaxis": {
             "endlinecolor": "#2a3f5f",
             "gridcolor": "white",
             "linecolor": "white",
             "minorgridcolor": "white",
             "startlinecolor": "#2a3f5f"
            },
            "baxis": {
             "endlinecolor": "#2a3f5f",
             "gridcolor": "white",
             "linecolor": "white",
             "minorgridcolor": "white",
             "startlinecolor": "#2a3f5f"
            },
            "type": "carpet"
           }
          ],
          "choropleth": [
           {
            "colorbar": {
             "outlinewidth": 0,
             "ticks": ""
            },
            "type": "choropleth"
           }
          ],
          "contour": [
           {
            "colorbar": {
             "outlinewidth": 0,
             "ticks": ""
            },
            "colorscale": [
             [
              0,
              "#0d0887"
             ],
             [
              0.1111111111111111,
              "#46039f"
             ],
             [
              0.2222222222222222,
              "#7201a8"
             ],
             [
              0.3333333333333333,
              "#9c179e"
             ],
             [
              0.4444444444444444,
              "#bd3786"
             ],
             [
              0.5555555555555556,
              "#d8576b"
             ],
             [
              0.6666666666666666,
              "#ed7953"
             ],
             [
              0.7777777777777778,
              "#fb9f3a"
             ],
             [
              0.8888888888888888,
              "#fdca26"
             ],
             [
              1,
              "#f0f921"
             ]
            ],
            "type": "contour"
           }
          ],
          "contourcarpet": [
           {
            "colorbar": {
             "outlinewidth": 0,
             "ticks": ""
            },
            "type": "contourcarpet"
           }
          ],
          "heatmap": [
           {
            "colorbar": {
             "outlinewidth": 0,
             "ticks": ""
            },
            "colorscale": [
             [
              0,
              "#0d0887"
             ],
             [
              0.1111111111111111,
              "#46039f"
             ],
             [
              0.2222222222222222,
              "#7201a8"
             ],
             [
              0.3333333333333333,
              "#9c179e"
             ],
             [
              0.4444444444444444,
              "#bd3786"
             ],
             [
              0.5555555555555556,
              "#d8576b"
             ],
             [
              0.6666666666666666,
              "#ed7953"
             ],
             [
              0.7777777777777778,
              "#fb9f3a"
             ],
             [
              0.8888888888888888,
              "#fdca26"
             ],
             [
              1,
              "#f0f921"
             ]
            ],
            "type": "heatmap"
           }
          ],
          "heatmapgl": [
           {
            "colorbar": {
             "outlinewidth": 0,
             "ticks": ""
            },
            "colorscale": [
             [
              0,
              "#0d0887"
             ],
             [
              0.1111111111111111,
              "#46039f"
             ],
             [
              0.2222222222222222,
              "#7201a8"
             ],
             [
              0.3333333333333333,
              "#9c179e"
             ],
             [
              0.4444444444444444,
              "#bd3786"
             ],
             [
              0.5555555555555556,
              "#d8576b"
             ],
             [
              0.6666666666666666,
              "#ed7953"
             ],
             [
              0.7777777777777778,
              "#fb9f3a"
             ],
             [
              0.8888888888888888,
              "#fdca26"
             ],
             [
              1,
              "#f0f921"
             ]
            ],
            "type": "heatmapgl"
           }
          ],
          "histogram": [
           {
            "marker": {
             "pattern": {
              "fillmode": "overlay",
              "size": 10,
              "solidity": 0.2
             }
            },
            "type": "histogram"
           }
          ],
          "histogram2d": [
           {
            "colorbar": {
             "outlinewidth": 0,
             "ticks": ""
            },
            "colorscale": [
             [
              0,
              "#0d0887"
             ],
             [
              0.1111111111111111,
              "#46039f"
             ],
             [
              0.2222222222222222,
              "#7201a8"
             ],
             [
              0.3333333333333333,
              "#9c179e"
             ],
             [
              0.4444444444444444,
              "#bd3786"
             ],
             [
              0.5555555555555556,
              "#d8576b"
             ],
             [
              0.6666666666666666,
              "#ed7953"
             ],
             [
              0.7777777777777778,
              "#fb9f3a"
             ],
             [
              0.8888888888888888,
              "#fdca26"
             ],
             [
              1,
              "#f0f921"
             ]
            ],
            "type": "histogram2d"
           }
          ],
          "histogram2dcontour": [
           {
            "colorbar": {
             "outlinewidth": 0,
             "ticks": ""
            },
            "colorscale": [
             [
              0,
              "#0d0887"
             ],
             [
              0.1111111111111111,
              "#46039f"
             ],
             [
              0.2222222222222222,
              "#7201a8"
             ],
             [
              0.3333333333333333,
              "#9c179e"
             ],
             [
              0.4444444444444444,
              "#bd3786"
             ],
             [
              0.5555555555555556,
              "#d8576b"
             ],
             [
              0.6666666666666666,
              "#ed7953"
             ],
             [
              0.7777777777777778,
              "#fb9f3a"
             ],
             [
              0.8888888888888888,
              "#fdca26"
             ],
             [
              1,
              "#f0f921"
             ]
            ],
            "type": "histogram2dcontour"
           }
          ],
          "mesh3d": [
           {
            "colorbar": {
             "outlinewidth": 0,
             "ticks": ""
            },
            "type": "mesh3d"
           }
          ],
          "parcoords": [
           {
            "line": {
             "colorbar": {
              "outlinewidth": 0,
              "ticks": ""
             }
            },
            "type": "parcoords"
           }
          ],
          "pie": [
           {
            "automargin": true,
            "type": "pie"
           }
          ],
          "scatter": [
           {
            "fillpattern": {
             "fillmode": "overlay",
             "size": 10,
             "solidity": 0.2
            },
            "type": "scatter"
           }
          ],
          "scatter3d": [
           {
            "line": {
             "colorbar": {
              "outlinewidth": 0,
              "ticks": ""
             }
            },
            "marker": {
             "colorbar": {
              "outlinewidth": 0,
              "ticks": ""
             }
            },
            "type": "scatter3d"
           }
          ],
          "scattercarpet": [
           {
            "marker": {
             "colorbar": {
              "outlinewidth": 0,
              "ticks": ""
             }
            },
            "type": "scattercarpet"
           }
          ],
          "scattergeo": [
           {
            "marker": {
             "colorbar": {
              "outlinewidth": 0,
              "ticks": ""
             }
            },
            "type": "scattergeo"
           }
          ],
          "scattergl": [
           {
            "marker": {
             "colorbar": {
              "outlinewidth": 0,
              "ticks": ""
             }
            },
            "type": "scattergl"
           }
          ],
          "scattermapbox": [
           {
            "marker": {
             "colorbar": {
              "outlinewidth": 0,
              "ticks": ""
             }
            },
            "type": "scattermapbox"
           }
          ],
          "scatterpolar": [
           {
            "marker": {
             "colorbar": {
              "outlinewidth": 0,
              "ticks": ""
             }
            },
            "type": "scatterpolar"
           }
          ],
          "scatterpolargl": [
           {
            "marker": {
             "colorbar": {
              "outlinewidth": 0,
              "ticks": ""
             }
            },
            "type": "scatterpolargl"
           }
          ],
          "scatterternary": [
           {
            "marker": {
             "colorbar": {
              "outlinewidth": 0,
              "ticks": ""
             }
            },
            "type": "scatterternary"
           }
          ],
          "surface": [
           {
            "colorbar": {
             "outlinewidth": 0,
             "ticks": ""
            },
            "colorscale": [
             [
              0,
              "#0d0887"
             ],
             [
              0.1111111111111111,
              "#46039f"
             ],
             [
              0.2222222222222222,
              "#7201a8"
             ],
             [
              0.3333333333333333,
              "#9c179e"
             ],
             [
              0.4444444444444444,
              "#bd3786"
             ],
             [
              0.5555555555555556,
              "#d8576b"
             ],
             [
              0.6666666666666666,
              "#ed7953"
             ],
             [
              0.7777777777777778,
              "#fb9f3a"
             ],
             [
              0.8888888888888888,
              "#fdca26"
             ],
             [
              1,
              "#f0f921"
             ]
            ],
            "type": "surface"
           }
          ],
          "table": [
           {
            "cells": {
             "fill": {
              "color": "#EBF0F8"
             },
             "line": {
              "color": "white"
             }
            },
            "header": {
             "fill": {
              "color": "#C8D4E3"
             },
             "line": {
              "color": "white"
             }
            },
            "type": "table"
           }
          ]
         },
         "layout": {
          "annotationdefaults": {
           "arrowcolor": "#2a3f5f",
           "arrowhead": 0,
           "arrowwidth": 1
          },
          "autotypenumbers": "strict",
          "coloraxis": {
           "colorbar": {
            "outlinewidth": 0,
            "ticks": ""
           }
          },
          "colorscale": {
           "diverging": [
            [
             0,
             "#8e0152"
            ],
            [
             0.1,
             "#c51b7d"
            ],
            [
             0.2,
             "#de77ae"
            ],
            [
             0.3,
             "#f1b6da"
            ],
            [
             0.4,
             "#fde0ef"
            ],
            [
             0.5,
             "#f7f7f7"
            ],
            [
             0.6,
             "#e6f5d0"
            ],
            [
             0.7,
             "#b8e186"
            ],
            [
             0.8,
             "#7fbc41"
            ],
            [
             0.9,
             "#4d9221"
            ],
            [
             1,
             "#276419"
            ]
           ],
           "sequential": [
            [
             0,
             "#0d0887"
            ],
            [
             0.1111111111111111,
             "#46039f"
            ],
            [
             0.2222222222222222,
             "#7201a8"
            ],
            [
             0.3333333333333333,
             "#9c179e"
            ],
            [
             0.4444444444444444,
             "#bd3786"
            ],
            [
             0.5555555555555556,
             "#d8576b"
            ],
            [
             0.6666666666666666,
             "#ed7953"
            ],
            [
             0.7777777777777778,
             "#fb9f3a"
            ],
            [
             0.8888888888888888,
             "#fdca26"
            ],
            [
             1,
             "#f0f921"
            ]
           ],
           "sequentialminus": [
            [
             0,
             "#0d0887"
            ],
            [
             0.1111111111111111,
             "#46039f"
            ],
            [
             0.2222222222222222,
             "#7201a8"
            ],
            [
             0.3333333333333333,
             "#9c179e"
            ],
            [
             0.4444444444444444,
             "#bd3786"
            ],
            [
             0.5555555555555556,
             "#d8576b"
            ],
            [
             0.6666666666666666,
             "#ed7953"
            ],
            [
             0.7777777777777778,
             "#fb9f3a"
            ],
            [
             0.8888888888888888,
             "#fdca26"
            ],
            [
             1,
             "#f0f921"
            ]
           ]
          },
          "colorway": [
           "#636efa",
           "#EF553B",
           "#00cc96",
           "#ab63fa",
           "#FFA15A",
           "#19d3f3",
           "#FF6692",
           "#B6E880",
           "#FF97FF",
           "#FECB52"
          ],
          "font": {
           "color": "#2a3f5f"
          },
          "geo": {
           "bgcolor": "white",
           "lakecolor": "white",
           "landcolor": "#E5ECF6",
           "showlakes": true,
           "showland": true,
           "subunitcolor": "white"
          },
          "hoverlabel": {
           "align": "left"
          },
          "hovermode": "closest",
          "mapbox": {
           "style": "light"
          },
          "paper_bgcolor": "white",
          "plot_bgcolor": "#E5ECF6",
          "polar": {
           "angularaxis": {
            "gridcolor": "white",
            "linecolor": "white",
            "ticks": ""
           },
           "bgcolor": "#E5ECF6",
           "radialaxis": {
            "gridcolor": "white",
            "linecolor": "white",
            "ticks": ""
           }
          },
          "scene": {
           "xaxis": {
            "backgroundcolor": "#E5ECF6",
            "gridcolor": "white",
            "gridwidth": 2,
            "linecolor": "white",
            "showbackground": true,
            "ticks": "",
            "zerolinecolor": "white"
           },
           "yaxis": {
            "backgroundcolor": "#E5ECF6",
            "gridcolor": "white",
            "gridwidth": 2,
            "linecolor": "white",
            "showbackground": true,
            "ticks": "",
            "zerolinecolor": "white"
           },
           "zaxis": {
            "backgroundcolor": "#E5ECF6",
            "gridcolor": "white",
            "gridwidth": 2,
            "linecolor": "white",
            "showbackground": true,
            "ticks": "",
            "zerolinecolor": "white"
           }
          },
          "shapedefaults": {
           "line": {
            "color": "#2a3f5f"
           }
          },
          "ternary": {
           "aaxis": {
            "gridcolor": "white",
            "linecolor": "white",
            "ticks": ""
           },
           "baxis": {
            "gridcolor": "white",
            "linecolor": "white",
            "ticks": ""
           },
           "bgcolor": "#E5ECF6",
           "caxis": {
            "gridcolor": "white",
            "linecolor": "white",
            "ticks": ""
           }
          },
          "title": {
           "x": 0.05
          },
          "xaxis": {
           "automargin": true,
           "gridcolor": "white",
           "linecolor": "white",
           "ticks": "",
           "title": {
            "standoff": 15
           },
           "zerolinecolor": "white",
           "zerolinewidth": 2
          },
          "yaxis": {
           "automargin": true,
           "gridcolor": "white",
           "linecolor": "white",
           "ticks": "",
           "title": {
            "standoff": 15
           },
           "zerolinecolor": "white",
           "zerolinewidth": 2
          }
         }
        },
        "title": {
         "text": "Отток клиентов по странам"
        },
        "width": 1000
       }
      },
      "text/html": [
       "<div>                            <div id=\"c10ca9ef-d56b-4224-a479-3ad6479f558a\" class=\"plotly-graph-div\" style=\"height:700px; width:1000px;\"></div>            <script type=\"text/javascript\">                require([\"plotly\"], function(Plotly) {                    window.PLOTLYENV=window.PLOTLYENV || {};                                    if (document.getElementById(\"c10ca9ef-d56b-4224-a479-3ad6479f558a\")) {                    Plotly.newPlot(                        \"c10ca9ef-d56b-4224-a479-3ad6479f558a\",                        [{\"coloraxis\":\"coloraxis\",\"geo\":\"geo\",\"hovertemplate\":\"country=%{location}<br>count=%{z}<extra></extra>\",\"locationmode\":\"country names\",\"locations\":[\"Germany\",\"France\",\"Spain\"],\"name\":\"\",\"z\":[814,810,413],\"type\":\"choropleth\"}],                        {\"template\":{\"data\":{\"histogram2dcontour\":[{\"type\":\"histogram2dcontour\",\"colorbar\":{\"outlinewidth\":0,\"ticks\":\"\"},\"colorscale\":[[0.0,\"#0d0887\"],[0.1111111111111111,\"#46039f\"],[0.2222222222222222,\"#7201a8\"],[0.3333333333333333,\"#9c179e\"],[0.4444444444444444,\"#bd3786\"],[0.5555555555555556,\"#d8576b\"],[0.6666666666666666,\"#ed7953\"],[0.7777777777777778,\"#fb9f3a\"],[0.8888888888888888,\"#fdca26\"],[1.0,\"#f0f921\"]]}],\"choropleth\":[{\"type\":\"choropleth\",\"colorbar\":{\"outlinewidth\":0,\"ticks\":\"\"}}],\"histogram2d\":[{\"type\":\"histogram2d\",\"colorbar\":{\"outlinewidth\":0,\"ticks\":\"\"},\"colorscale\":[[0.0,\"#0d0887\"],[0.1111111111111111,\"#46039f\"],[0.2222222222222222,\"#7201a8\"],[0.3333333333333333,\"#9c179e\"],[0.4444444444444444,\"#bd3786\"],[0.5555555555555556,\"#d8576b\"],[0.6666666666666666,\"#ed7953\"],[0.7777777777777778,\"#fb9f3a\"],[0.8888888888888888,\"#fdca26\"],[1.0,\"#f0f921\"]]}],\"heatmap\":[{\"type\":\"heatmap\",\"colorbar\":{\"outlinewidth\":0,\"ticks\":\"\"},\"colorscale\":[[0.0,\"#0d0887\"],[0.1111111111111111,\"#46039f\"],[0.2222222222222222,\"#7201a8\"],[0.3333333333333333,\"#9c179e\"],[0.4444444444444444,\"#bd3786\"],[0.5555555555555556,\"#d8576b\"],[0.6666666666666666,\"#ed7953\"],[0.7777777777777778,\"#fb9f3a\"],[0.8888888888888888,\"#fdca26\"],[1.0,\"#f0f921\"]]}],\"heatmapgl\":[{\"type\":\"heatmapgl\",\"colorbar\":{\"outlinewidth\":0,\"ticks\":\"\"},\"colorscale\":[[0.0,\"#0d0887\"],[0.1111111111111111,\"#46039f\"],[0.2222222222222222,\"#7201a8\"],[0.3333333333333333,\"#9c179e\"],[0.4444444444444444,\"#bd3786\"],[0.5555555555555556,\"#d8576b\"],[0.6666666666666666,\"#ed7953\"],[0.7777777777777778,\"#fb9f3a\"],[0.8888888888888888,\"#fdca26\"],[1.0,\"#f0f921\"]]}],\"contourcarpet\":[{\"type\":\"contourcarpet\",\"colorbar\":{\"outlinewidth\":0,\"ticks\":\"\"}}],\"contour\":[{\"type\":\"contour\",\"colorbar\":{\"outlinewidth\":0,\"ticks\":\"\"},\"colorscale\":[[0.0,\"#0d0887\"],[0.1111111111111111,\"#46039f\"],[0.2222222222222222,\"#7201a8\"],[0.3333333333333333,\"#9c179e\"],[0.4444444444444444,\"#bd3786\"],[0.5555555555555556,\"#d8576b\"],[0.6666666666666666,\"#ed7953\"],[0.7777777777777778,\"#fb9f3a\"],[0.8888888888888888,\"#fdca26\"],[1.0,\"#f0f921\"]]}],\"surface\":[{\"type\":\"surface\",\"colorbar\":{\"outlinewidth\":0,\"ticks\":\"\"},\"colorscale\":[[0.0,\"#0d0887\"],[0.1111111111111111,\"#46039f\"],[0.2222222222222222,\"#7201a8\"],[0.3333333333333333,\"#9c179e\"],[0.4444444444444444,\"#bd3786\"],[0.5555555555555556,\"#d8576b\"],[0.6666666666666666,\"#ed7953\"],[0.7777777777777778,\"#fb9f3a\"],[0.8888888888888888,\"#fdca26\"],[1.0,\"#f0f921\"]]}],\"mesh3d\":[{\"type\":\"mesh3d\",\"colorbar\":{\"outlinewidth\":0,\"ticks\":\"\"}}],\"scatter\":[{\"fillpattern\":{\"fillmode\":\"overlay\",\"size\":10,\"solidity\":0.2},\"type\":\"scatter\"}],\"parcoords\":[{\"type\":\"parcoords\",\"line\":{\"colorbar\":{\"outlinewidth\":0,\"ticks\":\"\"}}}],\"scatterpolargl\":[{\"type\":\"scatterpolargl\",\"marker\":{\"colorbar\":{\"outlinewidth\":0,\"ticks\":\"\"}}}],\"bar\":[{\"error_x\":{\"color\":\"#2a3f5f\"},\"error_y\":{\"color\":\"#2a3f5f\"},\"marker\":{\"line\":{\"color\":\"#E5ECF6\",\"width\":0.5},\"pattern\":{\"fillmode\":\"overlay\",\"size\":10,\"solidity\":0.2}},\"type\":\"bar\"}],\"scattergeo\":[{\"type\":\"scattergeo\",\"marker\":{\"colorbar\":{\"outlinewidth\":0,\"ticks\":\"\"}}}],\"scatterpolar\":[{\"type\":\"scatterpolar\",\"marker\":{\"colorbar\":{\"outlinewidth\":0,\"ticks\":\"\"}}}],\"histogram\":[{\"marker\":{\"pattern\":{\"fillmode\":\"overlay\",\"size\":10,\"solidity\":0.2}},\"type\":\"histogram\"}],\"scattergl\":[{\"type\":\"scattergl\",\"marker\":{\"colorbar\":{\"outlinewidth\":0,\"ticks\":\"\"}}}],\"scatter3d\":[{\"type\":\"scatter3d\",\"line\":{\"colorbar\":{\"outlinewidth\":0,\"ticks\":\"\"}},\"marker\":{\"colorbar\":{\"outlinewidth\":0,\"ticks\":\"\"}}}],\"scattermapbox\":[{\"type\":\"scattermapbox\",\"marker\":{\"colorbar\":{\"outlinewidth\":0,\"ticks\":\"\"}}}],\"scatterternary\":[{\"type\":\"scatterternary\",\"marker\":{\"colorbar\":{\"outlinewidth\":0,\"ticks\":\"\"}}}],\"scattercarpet\":[{\"type\":\"scattercarpet\",\"marker\":{\"colorbar\":{\"outlinewidth\":0,\"ticks\":\"\"}}}],\"carpet\":[{\"aaxis\":{\"endlinecolor\":\"#2a3f5f\",\"gridcolor\":\"white\",\"linecolor\":\"white\",\"minorgridcolor\":\"white\",\"startlinecolor\":\"#2a3f5f\"},\"baxis\":{\"endlinecolor\":\"#2a3f5f\",\"gridcolor\":\"white\",\"linecolor\":\"white\",\"minorgridcolor\":\"white\",\"startlinecolor\":\"#2a3f5f\"},\"type\":\"carpet\"}],\"table\":[{\"cells\":{\"fill\":{\"color\":\"#EBF0F8\"},\"line\":{\"color\":\"white\"}},\"header\":{\"fill\":{\"color\":\"#C8D4E3\"},\"line\":{\"color\":\"white\"}},\"type\":\"table\"}],\"barpolar\":[{\"marker\":{\"line\":{\"color\":\"#E5ECF6\",\"width\":0.5},\"pattern\":{\"fillmode\":\"overlay\",\"size\":10,\"solidity\":0.2}},\"type\":\"barpolar\"}],\"pie\":[{\"automargin\":true,\"type\":\"pie\"}]},\"layout\":{\"autotypenumbers\":\"strict\",\"colorway\":[\"#636efa\",\"#EF553B\",\"#00cc96\",\"#ab63fa\",\"#FFA15A\",\"#19d3f3\",\"#FF6692\",\"#B6E880\",\"#FF97FF\",\"#FECB52\"],\"font\":{\"color\":\"#2a3f5f\"},\"hovermode\":\"closest\",\"hoverlabel\":{\"align\":\"left\"},\"paper_bgcolor\":\"white\",\"plot_bgcolor\":\"#E5ECF6\",\"polar\":{\"bgcolor\":\"#E5ECF6\",\"angularaxis\":{\"gridcolor\":\"white\",\"linecolor\":\"white\",\"ticks\":\"\"},\"radialaxis\":{\"gridcolor\":\"white\",\"linecolor\":\"white\",\"ticks\":\"\"}},\"ternary\":{\"bgcolor\":\"#E5ECF6\",\"aaxis\":{\"gridcolor\":\"white\",\"linecolor\":\"white\",\"ticks\":\"\"},\"baxis\":{\"gridcolor\":\"white\",\"linecolor\":\"white\",\"ticks\":\"\"},\"caxis\":{\"gridcolor\":\"white\",\"linecolor\":\"white\",\"ticks\":\"\"}},\"coloraxis\":{\"colorbar\":{\"outlinewidth\":0,\"ticks\":\"\"}},\"colorscale\":{\"sequential\":[[0.0,\"#0d0887\"],[0.1111111111111111,\"#46039f\"],[0.2222222222222222,\"#7201a8\"],[0.3333333333333333,\"#9c179e\"],[0.4444444444444444,\"#bd3786\"],[0.5555555555555556,\"#d8576b\"],[0.6666666666666666,\"#ed7953\"],[0.7777777777777778,\"#fb9f3a\"],[0.8888888888888888,\"#fdca26\"],[1.0,\"#f0f921\"]],\"sequentialminus\":[[0.0,\"#0d0887\"],[0.1111111111111111,\"#46039f\"],[0.2222222222222222,\"#7201a8\"],[0.3333333333333333,\"#9c179e\"],[0.4444444444444444,\"#bd3786\"],[0.5555555555555556,\"#d8576b\"],[0.6666666666666666,\"#ed7953\"],[0.7777777777777778,\"#fb9f3a\"],[0.8888888888888888,\"#fdca26\"],[1.0,\"#f0f921\"]],\"diverging\":[[0,\"#8e0152\"],[0.1,\"#c51b7d\"],[0.2,\"#de77ae\"],[0.3,\"#f1b6da\"],[0.4,\"#fde0ef\"],[0.5,\"#f7f7f7\"],[0.6,\"#e6f5d0\"],[0.7,\"#b8e186\"],[0.8,\"#7fbc41\"],[0.9,\"#4d9221\"],[1,\"#276419\"]]},\"xaxis\":{\"gridcolor\":\"white\",\"linecolor\":\"white\",\"ticks\":\"\",\"title\":{\"standoff\":15},\"zerolinecolor\":\"white\",\"automargin\":true,\"zerolinewidth\":2},\"yaxis\":{\"gridcolor\":\"white\",\"linecolor\":\"white\",\"ticks\":\"\",\"title\":{\"standoff\":15},\"zerolinecolor\":\"white\",\"automargin\":true,\"zerolinewidth\":2},\"scene\":{\"xaxis\":{\"backgroundcolor\":\"#E5ECF6\",\"gridcolor\":\"white\",\"linecolor\":\"white\",\"showbackground\":true,\"ticks\":\"\",\"zerolinecolor\":\"white\",\"gridwidth\":2},\"yaxis\":{\"backgroundcolor\":\"#E5ECF6\",\"gridcolor\":\"white\",\"linecolor\":\"white\",\"showbackground\":true,\"ticks\":\"\",\"zerolinecolor\":\"white\",\"gridwidth\":2},\"zaxis\":{\"backgroundcolor\":\"#E5ECF6\",\"gridcolor\":\"white\",\"linecolor\":\"white\",\"showbackground\":true,\"ticks\":\"\",\"zerolinecolor\":\"white\",\"gridwidth\":2}},\"shapedefaults\":{\"line\":{\"color\":\"#2a3f5f\"}},\"annotationdefaults\":{\"arrowcolor\":\"#2a3f5f\",\"arrowhead\":0,\"arrowwidth\":1},\"geo\":{\"bgcolor\":\"white\",\"landcolor\":\"#E5ECF6\",\"subunitcolor\":\"white\",\"showland\":true,\"showlakes\":true,\"lakecolor\":\"white\"},\"title\":{\"x\":0.05},\"mapbox\":{\"style\":\"light\"}}},\"geo\":{\"domain\":{\"x\":[0.0,1.0],\"y\":[0.0,1.0]},\"center\":{}},\"coloraxis\":{\"colorbar\":{\"title\":{\"text\":\"count\"}},\"colorscale\":[[0.0,\"rgb(247,252,245)\"],[0.125,\"rgb(229,245,224)\"],[0.25,\"rgb(199,233,192)\"],[0.375,\"rgb(161,217,155)\"],[0.5,\"rgb(116,196,118)\"],[0.625,\"rgb(65,171,93)\"],[0.75,\"rgb(35,139,69)\"],[0.875,\"rgb(0,109,44)\"],[1.0,\"rgb(0,68,27)\"]],\"cmin\":0,\"cmax\":820},\"legend\":{\"tracegroupgap\":0},\"title\":{\"text\":\"\\u041e\\u0442\\u0442\\u043e\\u043a \\u043a\\u043b\\u0438\\u0435\\u043d\\u0442\\u043e\\u0432 \\u043f\\u043e \\u0441\\u0442\\u0440\\u0430\\u043d\\u0430\\u043c\"},\"height\":700,\"width\":1000},                        {\"responsive\": true}                    ).then(function(){\n",
       "                            \n",
       "var gd = document.getElementById('c10ca9ef-d56b-4224-a479-3ad6479f558a');\n",
       "var x = new MutationObserver(function (mutations, observer) {{\n",
       "        var display = window.getComputedStyle(gd).display;\n",
       "        if (!display || display === 'none') {{\n",
       "            console.log([gd, 'removed!']);\n",
       "            Plotly.purge(gd);\n",
       "            observer.disconnect();\n",
       "        }}\n",
       "}});\n",
       "\n",
       "// Listen for the removal of the full notebook cells\n",
       "var notebookContainer = gd.closest('#notebook-container');\n",
       "if (notebookContainer) {{\n",
       "    x.observe(notebookContainer, {childList: true});\n",
       "}}\n",
       "\n",
       "// Listen for the clearing of the current output cell\n",
       "var outputEl = gd.closest('.output');\n",
       "if (outputEl) {{\n",
       "    x.observe(outputEl, {childList: true});\n",
       "}}\n",
       "\n",
       "                        })                };                });            </script>        </div>"
      ]
     },
     "metadata": {},
     "output_type": "display_data"
    }
   ],
   "source": [
    "fig = px.choropleth(\n",
    "    data_frame=geo, \n",
    "    locations=\"country\",\n",
    "    locationmode = \"country names\", \n",
    "    color='count', \n",
    "    range_color=[0,820], \n",
    "    title='Отток клиентов по странам', \n",
    "    width=1000,\n",
    "    height=700, \n",
    "    color_continuous_scale='Greens' \n",
    ")\n",
    "\n",
    "\n",
    "fig.show()"
   ]
  },
  {
   "cell_type": "markdown",
   "id": "8f86abab",
   "metadata": {},
   "source": [
    "На карте видно, что среди стран, на территории которых работает банк, лидерами по оттоку клиентов являются Франция и Германия. Отток клиентов в этих странах почти в 2 раза превышает отток клиентов в Испании. Можно предположить, что банк не учитывает менталитет и экономические особенности стран, либо на территории Франции и Германии находится сильный конкурент."
   ]
  },
  {
   "cell_type": "markdown",
   "id": "f14788f7",
   "metadata": {},
   "source": [
    "## 9.10. Переведите числовой признак CreditScore в категориальный. Для этого воспользуйтесь функцией get_credit_score_cat(), которая приведена ниже. Примените её к столбцу CreditScore и создайте новый признак CreditScoreCat — категории кредитного рейтинга."
   ]
  },
  {
   "cell_type": "code",
   "execution_count": 70,
   "id": "fba10982",
   "metadata": {},
   "outputs": [],
   "source": [
    "def get_credit_score_cat(credit_score):               # функция, позволяющия разделить значения кредитного рейтинга, на 7 групп\n",
    "    if credit_score >= 300 and credit_score < 500:\n",
    "        return \"Very_Poor\"\n",
    "    elif credit_score >= 500 and credit_score < 601:\n",
    "        return \"Poor\"\n",
    "    elif credit_score >= 601 and credit_score < 661:\n",
    "        return \"Fair\"\n",
    "    elif credit_score >= 661 and credit_score < 781:\n",
    "        return \"Good\"\n",
    "    elif credit_score >= 781 and credit_score < 851:\n",
    "        return \"Excellent\"\n",
    "    elif credit_score >= 851:\n",
    "        return \"Top\"\n",
    "    elif credit_score < 300:\n",
    "        return \"Deep\""
   ]
  },
  {
   "cell_type": "code",
   "execution_count": 71,
   "id": "d4cef9b9",
   "metadata": {},
   "outputs": [],
   "source": [
    "churn['CreditScoreCat'] = churn.CreditScore.apply(get_credit_score_cat) # применяем функцию к столбцу CreditScore и \n",
    "                                                                        # создаем в таблице новый столбец CreditScoreCat\n",
    "\n",
    "churn['Exited'] = churn['Exited'].apply(lambda x:1 if x == 'Ушедший' else 0) \n",
    "#возвращаем числовой праметр столбцу Exited: 1 = ушедший, 0 = лояльный "
   ]
  },
  {
   "cell_type": "markdown",
   "id": "9bf6b53c",
   "metadata": {},
   "source": [
    "## Постройте сводную таблицу, строками которой являются категории кредитного рейтинга (CreditScoreCat), а столбцами — количество лет, в течение которых клиент пользуется услугами банка (Tenure). В ячейках сводной таблицы должно находиться среднее по признаку оттока (Exited) — доля ушедших пользователей. На основе полученной сводной таблицы постройте тепловую карту с аннотацией. Найдите на тепловой карте категории клиентов, которые уходят чаще всего."
   ]
  },
  {
   "cell_type": "code",
   "execution_count": 72,
   "id": "4f3e8d0e",
   "metadata": {},
   "outputs": [
    {
     "data": {
      "text/html": [
       "<div>\n",
       "<style scoped>\n",
       "    .dataframe tbody tr th:only-of-type {\n",
       "        vertical-align: middle;\n",
       "    }\n",
       "\n",
       "    .dataframe tbody tr th {\n",
       "        vertical-align: top;\n",
       "    }\n",
       "\n",
       "    .dataframe thead th {\n",
       "        text-align: right;\n",
       "    }\n",
       "</style>\n",
       "<table border=\"1\" class=\"dataframe\">\n",
       "  <thead>\n",
       "    <tr style=\"text-align: right;\">\n",
       "      <th>Tenure</th>\n",
       "      <th>0</th>\n",
       "      <th>1</th>\n",
       "      <th>2</th>\n",
       "      <th>3</th>\n",
       "      <th>4</th>\n",
       "      <th>5</th>\n",
       "      <th>6</th>\n",
       "      <th>7</th>\n",
       "      <th>8</th>\n",
       "      <th>9</th>\n",
       "      <th>10</th>\n",
       "    </tr>\n",
       "    <tr>\n",
       "      <th>CreditScoreCat</th>\n",
       "      <th></th>\n",
       "      <th></th>\n",
       "      <th></th>\n",
       "      <th></th>\n",
       "      <th></th>\n",
       "      <th></th>\n",
       "      <th></th>\n",
       "      <th></th>\n",
       "      <th></th>\n",
       "      <th></th>\n",
       "      <th></th>\n",
       "    </tr>\n",
       "  </thead>\n",
       "  <tbody>\n",
       "    <tr>\n",
       "      <th>Excellent</th>\n",
       "      <td>0.275000</td>\n",
       "      <td>0.208333</td>\n",
       "      <td>0.137255</td>\n",
       "      <td>0.168317</td>\n",
       "      <td>0.131868</td>\n",
       "      <td>0.233333</td>\n",
       "      <td>0.241379</td>\n",
       "      <td>0.127660</td>\n",
       "      <td>0.196078</td>\n",
       "      <td>0.270833</td>\n",
       "      <td>0.254902</td>\n",
       "    </tr>\n",
       "    <tr>\n",
       "      <th>Fair</th>\n",
       "      <td>0.217391</td>\n",
       "      <td>0.215596</td>\n",
       "      <td>0.213043</td>\n",
       "      <td>0.216450</td>\n",
       "      <td>0.197248</td>\n",
       "      <td>0.206897</td>\n",
       "      <td>0.236364</td>\n",
       "      <td>0.171103</td>\n",
       "      <td>0.209016</td>\n",
       "      <td>0.190045</td>\n",
       "      <td>0.205357</td>\n",
       "    </tr>\n",
       "    <tr>\n",
       "      <th>Good</th>\n",
       "      <td>0.203822</td>\n",
       "      <td>0.203608</td>\n",
       "      <td>0.187342</td>\n",
       "      <td>0.205962</td>\n",
       "      <td>0.195122</td>\n",
       "      <td>0.214470</td>\n",
       "      <td>0.182857</td>\n",
       "      <td>0.191892</td>\n",
       "      <td>0.152355</td>\n",
       "      <td>0.194667</td>\n",
       "      <td>0.197802</td>\n",
       "    </tr>\n",
       "    <tr>\n",
       "      <th>Poor</th>\n",
       "      <td>0.226415</td>\n",
       "      <td>0.259398</td>\n",
       "      <td>0.211765</td>\n",
       "      <td>0.212245</td>\n",
       "      <td>0.233202</td>\n",
       "      <td>0.199153</td>\n",
       "      <td>0.179916</td>\n",
       "      <td>0.151261</td>\n",
       "      <td>0.214575</td>\n",
       "      <td>0.251082</td>\n",
       "      <td>0.169492</td>\n",
       "    </tr>\n",
       "    <tr>\n",
       "      <th>Very_Poor</th>\n",
       "      <td>0.444444</td>\n",
       "      <td>0.253731</td>\n",
       "      <td>0.151515</td>\n",
       "      <td>0.285714</td>\n",
       "      <td>0.293103</td>\n",
       "      <td>0.149254</td>\n",
       "      <td>0.225352</td>\n",
       "      <td>0.206349</td>\n",
       "      <td>0.253521</td>\n",
       "      <td>0.229508</td>\n",
       "      <td>0.333333</td>\n",
       "    </tr>\n",
       "  </tbody>\n",
       "</table>\n",
       "</div>"
      ],
      "text/plain": [
       "Tenure                0         1         2         3         4         5   \\\n",
       "CreditScoreCat                                                               \n",
       "Excellent       0.275000  0.208333  0.137255  0.168317  0.131868  0.233333   \n",
       "Fair            0.217391  0.215596  0.213043  0.216450  0.197248  0.206897   \n",
       "Good            0.203822  0.203608  0.187342  0.205962  0.195122  0.214470   \n",
       "Poor            0.226415  0.259398  0.211765  0.212245  0.233202  0.199153   \n",
       "Very_Poor       0.444444  0.253731  0.151515  0.285714  0.293103  0.149254   \n",
       "\n",
       "Tenure                6         7         8         9         10  \n",
       "CreditScoreCat                                                    \n",
       "Excellent       0.241379  0.127660  0.196078  0.270833  0.254902  \n",
       "Fair            0.236364  0.171103  0.209016  0.190045  0.205357  \n",
       "Good            0.182857  0.191892  0.152355  0.194667  0.197802  \n",
       "Poor            0.179916  0.151261  0.214575  0.251082  0.169492  \n",
       "Very_Poor       0.225352  0.206349  0.253521  0.229508  0.333333  "
      ]
     },
     "metadata": {},
     "output_type": "display_data"
    }
   ],
   "source": [
    "credit_tenur = churn.pivot_table(         # создаем сводную таблицу, значения таблицы отражают долю лояльных потребителей, \n",
    "values = 'Exited',                         # соответсвенно, чем меньше число, тем меньше в категории лояльных клиентов\n",
    "index = 'CreditScoreCat',\n",
    "columns = 'Tenure',\n",
    "aggfunc = 'mean')\n",
    "\n",
    "display(credit_tenur)"
   ]
  },
  {
   "cell_type": "code",
   "execution_count": 73,
   "id": "b70dda17",
   "metadata": {},
   "outputs": [
    {
     "data": {
      "image/png": "[encoded data removed]",
      "text/plain": [
       "<Figure size 1080x504 with 2 Axes>"
      ]
     },
     "metadata": {
      "needs_background": "light"
     },
     "output_type": "display_data"
    }
   ],
   "source": [
    "fig = plt.figure(figsize=(15, 7))    # построим тепловую карту, чтобы увидеть из каких категорий клиенты чаще покидают банк.\n",
    "heatmap = sns.heatmap(data=credit_tenur, cmap='YlGnBu')\n",
    "heatmap.set_title('Карта оттока клиентов в зависимости от их кредитного рейтинга и времени пользования услугами', fontsize=16);"
   ]
  },
  {
   "cell_type": "markdown",
   "id": "5582901b",
   "metadata": {},
   "source": [
    "Из представленных на тепловой карте данных видно, что чаще всего уходят клиенты, меньше или дольше всего пользующиеся услугами банка, и относящиеся к противоположным группам кредитного рейтинга: very poor, excellent. Преимущественно услугами банка остаются пользоваться клиенты в группе со средним кредитным рейтингом, пользующиеся услугами больше 1 года и менее 10 лет. Также можно предположить, что с течением времени, среди клиентов увеличивается лояльность к банку. "
   ]
  },
  {
   "cell_type": "code",
   "execution_count": null,
   "id": "1d5cf9de",
   "metadata": {},
   "outputs": [],
   "source": []
  }
 ],
 "metadata": {
  "kernelspec": {
   "display_name": "Python 3 (ipykernel)",
   "language": "python",
   "name": "python3"
  },
  "language_info": {
   "codemirror_mode": {
    "name": "ipython",
    "version": 3
   },
   "file_extension": ".py",
   "mimetype": "text/x-python",
   "name": "python",
   "nbconvert_exporter": "python",
   "pygments_lexer": "ipython3",
   "version": "3.9.7"
  }
 },
 "nbformat": 4,
 "nbformat_minor": 5
}
